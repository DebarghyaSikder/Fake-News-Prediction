{
 "cells": [
  {
   "cell_type": "markdown",
   "id": "84c7e812-a4a0-4a03-b7e6-92ad5aea8967",
   "metadata": {},
   "source": [
    "# We have to preprocess the text data into numbers"
   ]
  },
  {
   "cell_type": "code",
   "execution_count": 1,
   "id": "7b638613-f578-46d2-a086-aaeb47529ff0",
   "metadata": {},
   "outputs": [],
   "source": [
    "# We use Logistic regression since it is a Binary Classification"
   ]
  },
  {
   "cell_type": "markdown",
   "id": "b862745b-bd82-4679-b153-760ffa2fdf08",
   "metadata": {},
   "source": [
    "# Importing the dependencies"
   ]
  },
  {
   "cell_type": "code",
   "execution_count": null,
   "id": "07e76b96-c183-467e-aad1-ac9dc1363922",
   "metadata": {},
   "outputs": [],
   "source": [
    "import numpy as np\n",
    "import pandas as pd\n",
    "import re  #for searching text data document\n",
    "from nltk.corpus import stopwords  # nltk means the text we have to deal with  # stopwords are those words which do not add much value to our text and we need to remove them\n",
    "from nltk.stem import PorterStemmer\n",
    "from sklearn.feature_extraction.text import TfidfVectorizer  # to convert text into numeric values\n",
    "from sklearn.model_selection import train_test_split \n",
    "from sklearn.linear_model import LogisticRegression\n",
    "from sklearn.metrics import accuracy_score"
   ]
  },
  {
   "cell_type": "code",
   "execution_count": null,
   "id": "147bdbea-e82b-4815-a0ce-5a06b913b856",
   "metadata": {},
   "outputs": [],
   "source": [
    "import nltk\n",
    "nltk.download('stopwords')"
   ]
  },
  {
   "cell_type": "code",
   "execution_count": null,
   "id": "fdb1b4f7-a26c-4dbe-8316-89b8cb61c63d",
   "metadata": {},
   "outputs": [],
   "source": [
    "# Specify the language of the stopwords that are to be removed\n",
    "# Printing the stopwords in english\n",
    "print(stopwords.words('english'))"
   ]
  },
  {
   "cell_type": "markdown",
   "id": "6399cf7c-a9f2-4b68-b6e2-f104c4930a91",
   "metadata": {},
   "source": [
    "# Data Preprocessing"
   ]
  },
  {
   "cell_type": "code",
   "execution_count": null,
   "id": "8c25df22-9b26-4b4c-8388-2d1ed009ecce",
   "metadata": {},
   "outputs": [],
   "source": [
    "# Loading the dataset to a pandas DataFrame\n",
    "news_dataset=pd.read_csv('train_fakenes.csv')"
   ]
  },
  {
   "cell_type": "code",
   "execution_count": null,
   "id": "ccad8f47-fcb5-4649-b8e3-0fd339c63306",
   "metadata": {},
   "outputs": [],
   "source": [
    "news_dataset.shape"
   ]
  },
  {
   "cell_type": "code",
   "execution_count": null,
   "id": "c7f116e6-f29d-404a-9b29-a82b87e57259",
   "metadata": {},
   "outputs": [],
   "source": [
    "news_dataset.head()"
   ]
  },
  {
   "cell_type": "code",
   "execution_count": null,
   "id": "3b79c083-fac9-449e-90a7-86a8529eeca9",
   "metadata": {},
   "outputs": [],
   "source": [
    "## Counting the no. of missing values in dataset in each col.\n",
    "news_dataset.isnull().sum()"
   ]
  },
  {
   "cell_type": "code",
   "execution_count": null,
   "id": "d21767cc-dd69-445f-b652-21a781b39978",
   "metadata": {},
   "outputs": [],
   "source": [
    "# Replacing the null values with empty string\n",
    "news_dataset=news_dataset.fillna('')   # replaces the missing val with null string"
   ]
  },
  {
   "cell_type": "code",
   "execution_count": null,
   "id": "e62788b1-4db1-44d7-b757-dcf49445d386",
   "metadata": {},
   "outputs": [],
   "source": [
    "news_dataset=news_dataset.fillna('')"
   ]
  },
  {
   "cell_type": "code",
   "execution_count": null,
   "id": "5f19c1f5-89fb-4cb8-ad49-0df6bf45d668",
   "metadata": {},
   "outputs": [],
   "source": [
    "# We use the title and author col. for processing and not text since it has very large data"
   ]
  },
  {
   "cell_type": "code",
   "execution_count": null,
   "id": "2f8bd864-7e56-4c6b-b0c9-f583c5870b62",
   "metadata": {},
   "outputs": [],
   "source": [
    "# merging the author and news title inside a new col.\n",
    "news_dataset['content']=news_dataset['author']+' '+news_dataset['title']"
   ]
  },
  {
   "cell_type": "code",
   "execution_count": null,
   "id": "60828433-6c2c-4d4f-b918-1942404068e0",
   "metadata": {},
   "outputs": [],
   "source": [
    "print(news_dataset['content'])"
   ]
  },
  {
   "cell_type": "code",
   "execution_count": null,
   "id": "27ac73f7-7bc1-49f2-9026-af8d190391b7",
   "metadata": {},
   "outputs": [],
   "source": [
    "# Separating the data and label\n",
    "X=news_dataset.drop(columns='label',axis=1)\n",
    "Y=news_dataset['label']"
   ]
  },
  {
   "cell_type": "code",
   "execution_count": null,
   "id": "f273c376-6298-45e3-9912-114914dbcdce",
   "metadata": {},
   "outputs": [],
   "source": [
    "print(X)\n",
    "print(Y)"
   ]
  },
  {
   "cell_type": "markdown",
   "id": "28cd88db-9e97-4554-9e76-df99384ec129",
   "metadata": {},
   "source": [
    "# Stemming:\n",
    "It is the process of reducng a word to its Root Word. Removes all prefix and suffix which do not give meaning to our text.\n",
    "Eg: actor,actress,acting -> act"
   ]
  },
  {
   "cell_type": "code",
   "execution_count": null,
   "id": "013d3f93-8674-4b91-9249-fd3c8ddb5ba8",
   "metadata": {},
   "outputs": [],
   "source": [
    "port_stem=PorterStemmer() # this func. is loaded to this variable"
   ]
  },
  {
   "cell_type": "code",
   "execution_count": null,
   "id": "92fcd6a3-6cda-43db-977a-835dbb433698",
   "metadata": {},
   "outputs": [],
   "source": [
    "def stemming(content):  # creating a user defined function\n",
    "    stemmed_content=re.sub('[^a-zA-Z]',' ',content)   # excluding everything that is not a letter of english alphabet like numbers,etc.\n",
    "    stemmed_content=stemmed_content.lower()  #converting all words to lower case letters\n",
    "    stemmed_content=stemmed_content.split()\n",
    "    stemmed_content=[port_stem.stem(word) for word in stemmed_content if not word in stopwords.words('english')]\n",
    "    stemmed_content=' '.join(stemmed_content)\n",
    "    return stemmed_content\n",
    "    "
   ]
  },
  {
   "cell_type": "code",
   "execution_count": null,
   "id": "60d322ce-ab3e-4ebb-8e01-572552e16ab3",
   "metadata": {},
   "outputs": [],
   "source": [
    "news_dataset['content']=news_dataset['content'].apply(stemming)"
   ]
  },
  {
   "cell_type": "code",
   "execution_count": null,
   "id": "13e0f282-c334-4311-a90c-12f7a4b44bf1",
   "metadata": {},
   "outputs": [],
   "source": [
    "print(news_dataset['content'])"
   ]
  },
  {
   "cell_type": "code",
   "execution_count": null,
   "id": "7a7d978a-8e08-4e06-8ef0-6a74a6e68ac5",
   "metadata": {},
   "outputs": [],
   "source": [
    "# Separating the data and label\n",
    "X=news_dataset['content'].values\n",
    "Y=news_dataset['label'].values"
   ]
  },
  {
   "cell_type": "code",
   "execution_count": null,
   "id": "282e48e1-ef7a-4a43-8af9-df3cbc65105b",
   "metadata": {},
   "outputs": [],
   "source": [
    "print(X)"
   ]
  },
  {
   "cell_type": "code",
   "execution_count": null,
   "id": "d2c9b0ab-d924-473f-8728-61bdce350a75",
   "metadata": {},
   "outputs": [],
   "source": [
    "print(Y)"
   ]
  },
  {
   "cell_type": "code",
   "execution_count": null,
   "id": "bf998cf7-03cf-4f34-a753-db8eabeb7d90",
   "metadata": {},
   "outputs": [],
   "source": [
    "Y.shape"
   ]
  },
  {
   "cell_type": "code",
   "execution_count": null,
   "id": "48720c8c-1cd9-4164-9ee2-401fe4c7413f",
   "metadata": {},
   "outputs": [],
   "source": [
    "# converting the textual data to numerical data\n",
    "vectorizer = TfidfVectorizer()\n",
    "vectorizer.fit(X)\n",
    "\n",
    "X = vectorizer.transform(X)"
   ]
  },
  {
   "cell_type": "code",
   "execution_count": null,
   "id": "a7b41a34-9bf2-4f81-bbaf-142736bfd925",
   "metadata": {},
   "outputs": [],
   "source": [
    "print(X)"
   ]
  },
  {
   "cell_type": "markdown",
   "id": "707fd217-2a3f-44b4-9993-bd7aec960eee",
   "metadata": {},
   "source": [
    "# Splitting the dataset to training & test data"
   ]
  },
  {
   "cell_type": "code",
   "execution_count": null,
   "id": "96537558-038b-4389-8e76-1217ea6336cc",
   "metadata": {},
   "outputs": [],
   "source": [
    "X_train, X_test, Y_train, Y_test = train_test_split(X, Y, test_size = 0.2, stratify=Y, random_state=2)"
   ]
  },
  {
   "cell_type": "markdown",
   "id": "534ba52c-6666-4861-822e-3beb291890fc",
   "metadata": {},
   "source": [
    "# Training the Model: Logistic Regression"
   ]
  },
  {
   "cell_type": "code",
   "execution_count": null,
   "id": "c4a9b76e-7918-4df5-b6dc-88718c5c7cf7",
   "metadata": {},
   "outputs": [],
   "source": [
    "model = LogisticRegression()"
   ]
  },
  {
   "cell_type": "code",
   "execution_count": null,
   "id": "889146da-1ad6-4777-98ed-26c086edcbdb",
   "metadata": {},
   "outputs": [],
   "source": [
    "model.fit(X_train, Y_train)"
   ]
  },
  {
   "cell_type": "markdown",
   "id": "cc23b3e0-92df-40db-b5ec-db68c7252136",
   "metadata": {},
   "source": [
    "# Evaluation of accuracy score"
   ]
  },
  {
   "cell_type": "code",
   "execution_count": null,
   "id": "3a054f0d-757b-45e9-bafc-f0b03265078b",
   "metadata": {},
   "outputs": [],
   "source": [
    "# accuracy score on the training data\n",
    "X_train_prediction = model.predict(X_train)\n",
    "training_data_accuracy = accuracy_score(X_train_prediction, Y_train)"
   ]
  },
  {
   "cell_type": "code",
   "execution_count": null,
   "id": "179238c4-8c20-40b4-94fe-7d946610b743",
   "metadata": {},
   "outputs": [],
   "source": [
    "print('Accuracy score of the training data : ', training_data_accuracy)"
   ]
  },
  {
   "cell_type": "code",
   "execution_count": null,
   "id": "0d7be418-a258-426f-a8e6-5f740ba041a8",
   "metadata": {},
   "outputs": [],
   "source": [
    "# accuracy score on the test data\n",
    "X_test_prediction = model.predict(X_test)\n",
    "test_data_accuracy = accuracy_score(X_test_prediction, Y_test)"
   ]
  },
  {
   "cell_type": "code",
   "execution_count": null,
   "id": "75bb34b3-1ab4-4276-ace6-927d615a1981",
   "metadata": {},
   "outputs": [],
   "source": [
    "print('Accuracy score of the test data : ', test_data_accuracy)"
   ]
  },
  {
   "cell_type": "markdown",
   "id": "ddbe04a0-83ff-4bc7-b262-fe27d9782bf4",
   "metadata": {},
   "source": [
    "# Making a final Predictive System"
   ]
  },
  {
   "cell_type": "code",
   "execution_count": null,
   "id": "b29567ca-664f-4db0-bfe6-75a433cf59eb",
   "metadata": {},
   "outputs": [],
   "source": [
    "X_new = X_test[3]\n",
    "\n",
    "prediction = model.predict(X_new)\n",
    "print(prediction)\n",
    "\n",
    "if (prediction[0]==0):\n",
    "  print('The news is Real')\n",
    "else:\n",
    "  print('The news is Fake')"
   ]
  },
  {
   "cell_type": "code",
   "execution_count": null,
   "id": "e315d4f9-32b6-47e5-a582-32ef9edb3ac2",
   "metadata": {},
   "outputs": [],
   "source": [
    "print(Y_test[3])"
   ]
  }
 ],
 "metadata": {
  "kernelspec": {
   "display_name": "Python 3 (ipykernel)",
   "language": "python",
   "name": "python3"
  },
  "language_info": {
   "codemirror_mode": {
    "name": "ipython",
    "version": 3
   },
   "file_extension": ".py",
   "mimetype": "text/x-python",
   "name": "python",
   "nbconvert_exporter": "python",
   "pygments_lexer": "ipython3",
   "version": "3.11.7"
  }
 },
 "nbformat": 4,
 "nbformat_minor": 5
}
